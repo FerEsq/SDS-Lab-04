{
 "cells": [
  {
   "cell_type": "markdown",
   "metadata": {},
   "source": [
    "## Lab 3. Detección de Malware\n",
    "\n",
    "### Miembros\n",
    "* Fernanda Esquivel - 21542\n",
    "* Andrés Montoya - 21552\n",
    "\n",
    "### Link al repositorio\n",
    "El repositorio puede ser visualizado [acá](https://github.com/FerEsq/SDS-Lab-04)"
   ]
  },
  {
   "cell_type": "markdown",
   "metadata": {},
   "source": [
    "# Creación del dataset"
   ]
  },
  {
   "cell_type": "code",
   "execution_count": 2,
   "metadata": {},
   "outputs": [],
   "source": [
    "import os\n",
    "import pandas as pd\n",
    "import numpy as np\n",
    "import pefile\n",
    "import hashlib\n",
    "import warnings\n",
    "import matplotlib.pyplot as plt\n",
    "import seaborn as sns\n",
    "from sklearn.preprocessing import StandardScaler\n",
    "from sklearn.decomposition import PCA\n",
    "from sklearn.impute import SimpleImputer\n",
    "from sklearn.cluster import KMeans\n",
    "from sklearn.manifold import TSNE\n",
    "from datetime import datetime\n",
    "warnings.filterwarnings('ignore')"
   ]
  },
  {
   "cell_type": "code",
   "execution_count": 3,
   "metadata": {},
   "outputs": [],
   "source": [
    "# 1. Creación del dataset mediante análisis estático (enfocado)\n",
    "def getFileHash(file_path):\n",
    "    \"\"\"Calcular el hash MD5 de un archivo.\"\"\"\n",
    "    hash_md5 = hashlib.md5()\n",
    "    with open(file_path, \"rb\") as f:\n",
    "        for chunk in iter(lambda: f.read(4096), b\"\"):\n",
    "            hash_md5.update(chunk)\n",
    "    return hash_md5.hexdigest()"
   ]
  },
  {
   "cell_type": "code",
   "execution_count": null,
   "metadata": {},
   "outputs": [],
   "source": [
    "def getPEFeatures(file_path):\n",
    "    \"\"\"Extraer características estáticas clave de un archivo PE.\"\"\"\n",
    "    features = {}\n",
    "    \n",
    "    # Metadatos básicos del archivo\n",
    "    features['file_name'] = os.path.basename(file_path)\n",
    "    features['file_size'] = os.path.getsize(file_path)\n",
    "    features['md5'] = getFileHash(file_path)\n",
    "    \n",
    "    try:\n",
    "        pe = pefile.PE(file_path)\n",
    "        \n",
    "        #Detección si el ejecutable está empaquetado\n",
    "        #(Basado en características comunes de empaquetadores)\n",
    "        is_packed = False\n",
    "        packed_sections = ['UPX', '.aspack', '.packed', '.MPRESS', '.npack']\n",
    "        \n",
    "        # Verificar nombres de secciones sospechosas\n",
    "        if hasattr(pe, 'sections'):\n",
    "            for section in pe.sections:\n",
    "                name = section.Name.decode('utf-8', 'ignore').strip('\\x00')\n",
    "                if any(packer in name for packer in packed_sections):\n",
    "                    is_packed = True\n",
    "                    break\n",
    "        \n",
    "        #Verificar alta entropía (común en binarios empaquetados)\n",
    "        high_entropy_sections = 0\n",
    "        for section in pe.sections:\n",
    "            #Calcular entropía de la sección\n",
    "            entropy = 0\n",
    "            if len(section.get_data()) > 0:\n",
    "                byte_counts = {}\n",
    "                for byte in section.get_data():\n",
    "                    if isinstance(byte, int):  # Para Python 3\n",
    "                        byte_counts[byte] = byte_counts.get(byte, 0) + 1\n",
    "                    else:  # Para Python 2\n",
    "                        byte_counts[ord(byte)] = byte_counts.get(ord(byte), 0) + 1\n",
    "                \n",
    "                for count in byte_counts.values():\n",
    "                    probability = float(count) / len(section.get_data())\n",
    "                    entropy -= probability * np.log2(probability)\n",
    "                    \n",
    "                if entropy > 7.0:  # Umbral de alta entropía\n",
    "                    high_entropy_sections += 1\n",
    "        \n",
    "        if high_entropy_sections >= 2:\n",
    "            is_packed = True\n",
    "            \n",
    "        #Si hay pocos imports es sospechoso de empaquetamiento\n",
    "        few_imports = False\n",
    "        if hasattr(pe, 'DIRECTORY_ENTRY_IMPORT'):\n",
    "            total_imports = sum(len(entry.imports) for entry in pe.DIRECTORY_ENTRY_IMPORT)\n",
    "            if total_imports < 10:  # Umbral arbitrario para pocos imports\n",
    "                few_imports = True\n",
    "                \n",
    "        if few_imports:\n",
    "            is_packed = True\n",
    "            \n",
    "        features['is_packed'] = 1 if is_packed else 0\n",
    "        \n",
    "        #Secciones\n",
    "        section_names = []\n",
    "        section_entropies = []\n",
    "        \n",
    "        if hasattr(pe, 'sections'):\n",
    "            for section in pe.sections:\n",
    "                name = section.Name.decode('utf-8', 'ignore').strip('\\x00')\n",
    "                section_names.append(name)\n",
    "                \n",
    "                #Calcular entropía de la sección\n",
    "                entropy = 0\n",
    "                if len(section.get_data()) > 0:\n",
    "                    byte_counts = {}\n",
    "                    for byte in section.get_data():\n",
    "                        if isinstance(byte, int):  # Para Python 3\n",
    "                            byte_counts[byte] = byte_counts.get(byte, 0) + 1\n",
    "                        else:  # Para Python 2\n",
    "                            byte_counts[ord(byte)] = byte_counts.get(ord(byte), 0) + 1\n",
    "                    \n",
    "                    for count in byte_counts.values():\n",
    "                        probability = float(count) / len(section.get_data())\n",
    "                        entropy -= probability * np.log2(probability)\n",
    "                \n",
    "                section_entropies.append(entropy)\n",
    "        \n",
    "        features['section_names'] = '|'.join(section_names)\n",
    "        features['number_of_sections'] = len(section_names)\n",
    "        \n",
    "        #DLLs y funciones utilizadas\n",
    "        imported_dlls = []\n",
    "        imported_functions_count = 0\n",
    "        \n",
    "        if hasattr(pe, 'DIRECTORY_ENTRY_IMPORT'):\n",
    "            for entry in pe.DIRECTORY_ENTRY_IMPORT:\n",
    "                dll_name = entry.dll.decode('utf-8', 'ignore')\n",
    "                imported_dlls.append(dll_name.lower())\n",
    "                imported_functions_count += len(entry.imports)\n",
    "        \n",
    "        features['imported_dlls'] = '|'.join(imported_dlls)\n",
    "        features['imported_dlls_count'] = len(imported_dlls)\n",
    "        features['imported_functions_count'] = imported_functions_count\n",
    "        \n",
    "        #Detección de DLLs sospechosas\n",
    "        suspicious_dlls = ['ws2_32.dll', 'wininet.dll', 'urlmon.dll', 'shell32.dll', 'advapi32.dll']\n",
    "        suspicious_dll_count = sum(1 for dll in imported_dlls if dll.lower() in suspicious_dlls)\n",
    "        features['suspicious_dll_count'] = suspicious_dll_count\n",
    "        \n",
    "        #Fecha de compilación\n",
    "        if hasattr(pe, 'FILE_HEADER'):\n",
    "            timestamp = pe.FILE_HEADER.TimeDateStamp\n",
    "            try:\n",
    "                compile_date = datetime.fromtimestamp(timestamp).strftime('%Y-%m-%d')\n",
    "                features['compile_date'] = compile_date\n",
    "                \n",
    "                #Antigüedad del ejecutable (en días desde la fecha actual)\n",
    "                days_since_compile = (datetime.now() - datetime.fromtimestamp(timestamp)).days\n",
    "                features['days_since_compile'] = days_since_compile\n",
    "            except:\n",
    "                #Los timestamps son inválidos\n",
    "                features['compile_date'] = 'Invalid'\n",
    "                features['days_since_compile'] = -1\n",
    "        \n",
    "        #Entropía general del archivo\n",
    "        if hasattr(pe, 'sections'):\n",
    "            # Entropía promedio de todas las secciones\n",
    "            features['avg_entropy'] = np.mean(section_entropies) if section_entropies else 0\n",
    "            features['max_entropy'] = max(section_entropies) if section_entropies else 0\n",
    "        \n",
    "        #Características adicionales\n",
    "        #Tipo de archivo\n",
    "        features['is_dll'] = 1 if pe.is_dll() else 0\n",
    "        features['is_exe'] = 1 if pe.is_exe() else 0\n",
    "        \n",
    "        #Arquitectura\n",
    "        features['is_32bit'] = 1 if pe.FILE_HEADER.Machine == 0x14c else 0\n",
    "        features['is_64bit'] = 1 if pe.FILE_HEADER.Machine == 0x8664 else 0\n",
    "        \n",
    "        #Liberar recursos\n",
    "        pe.close()\n",
    "    \n",
    "    except Exception as e:\n",
    "        #Si hay algún error, devolver características básicas solamente\n",
    "        features['parse_error'] = str(e)\n",
    "        features['is_packed'] = -1  # Desconocido\n",
    "        features['number_of_sections'] = -1\n",
    "        features['imported_dlls_count'] = -1\n",
    "        features['imported_functions_count'] = -1\n",
    "        features['compile_date'] = 'Unknown'\n",
    "        features['days_since_compile'] = -1\n",
    "        features['avg_entropy'] = -1\n",
    "        features['max_entropy'] = -1\n",
    "        features['is_dll'] = -1\n",
    "        features['is_exe'] = -1\n",
    "        features['is_32bit'] = -1\n",
    "        features['is_64bit'] = -1\n",
    "        features['suspicious_dll_count'] = -1\n",
    "    \n",
    "    return features"
   ]
  },
  {
   "cell_type": "code",
   "execution_count": null,
   "metadata": {},
   "outputs": [],
   "source": [
    "def createMalwareDataset(malware_directory):\n",
    "    \"\"\"Crear un dataset a partir de archivos de malware en un directorio.\"\"\"\n",
    "    data = []\n",
    "    files = []\n",
    "    \n",
    "    #Obtener todos los archivos en el directorio recursivamente\n",
    "    for root, dirs, filenames in os.walk(malware_directory):\n",
    "        for filename in filenames:\n",
    "            file_path = os.path.join(root, filename)\n",
    "            files.append(file_path)\n",
    "    \n",
    "    print(f\"Encontrados {len(files)} archivos para analizar.\")\n",
    "    \n",
    "    #Procesar cada archivo\n",
    "    for i, file_path in enumerate(files):\n",
    "        try:\n",
    "            features = getPEFeatures(file_path)\n",
    "            data.append(features)\n",
    "            if (i + 1) % 100 == 0:\n",
    "                print(f\"Procesados {i + 1} archivos...\")\n",
    "        except Exception as e:\n",
    "            print(f\"Error en archivo {file_path}: {str(e)}\")\n",
    "    \n",
    "    #Crear DataFrame\n",
    "    df = pd.DataFrame(data)\n",
    "    return df"
   ]
  },
  {
   "cell_type": "code",
   "execution_count": null,
   "metadata": {},
   "outputs": [
    {
     "name": "stdout",
     "output_type": "stream",
     "text": [
      "Encontrados 41 archivos para analizar.\n",
      "Dataset creado con 41 filas y 19 columnas.\n",
      "Dataset bruto guardado como 'datasets/malware_dataset_raw.csv'\n"
     ]
    }
   ],
   "source": [
    "malware_directory = \"malwr/MALWR\"\n",
    "\n",
    "#Crear el dataset\n",
    "df = createMalwareDataset(malware_directory)\n",
    "print(f\"Dataset creado con {df.shape[0]} filas y {df.shape[1]} columnas.\")\n",
    "\n",
    "#Guardar el dataset bruto\n",
    "df.to_csv(\"datasets/malware_dataset_raw.csv\", index=False)\n",
    "print(\"Dataset bruto guardado como 'datasets/malware_dataset_raw.csv'\")"
   ]
  },
  {
   "cell_type": "markdown",
   "metadata": {},
   "source": [
    "# Exploración y pre-procesamiento de datos"
   ]
  },
  {
   "cell_type": "markdown",
   "metadata": {},
   "source": [
    "## Carga del dataset"
   ]
  },
  {
   "cell_type": "code",
   "execution_count": 83,
   "metadata": {},
   "outputs": [
    {
     "name": "stdout",
     "output_type": "stream",
     "text": [
      "Dataset cargado con 41 filas y 19 columnas.\n"
     ]
    }
   ],
   "source": [
    "df = pd.read_csv('datasets/malware_dataset_raw.csv')\n",
    "print(f\"Dataset cargado con {df.shape[0]} filas y {df.shape[1]} columnas.\")"
   ]
  },
  {
   "cell_type": "code",
   "execution_count": 84,
   "metadata": {},
   "outputs": [
    {
     "name": "stdout",
     "output_type": "stream",
     "text": [
      "Dataset después de eliminar la primera fila: 40 filas y 19 columnas.\n"
     ]
    }
   ],
   "source": [
    "#Eliminar la primera fila\n",
    "df = df.iloc[1:].reset_index(drop=True)\n",
    "print(f\"Dataset después de eliminar la primera fila: {df.shape[0]} filas y {df.shape[1]} columnas.\")"
   ]
  },
  {
   "cell_type": "markdown",
   "metadata": {},
   "source": [
    "## Exploración básica del dataset"
   ]
  },
  {
   "cell_type": "code",
   "execution_count": 85,
   "metadata": {},
   "outputs": [
    {
     "name": "stdout",
     "output_type": "stream",
     "text": [
      "\n",
      "Información básica del dataset:\n",
      "<class 'pandas.core.frame.DataFrame'>\n",
      "RangeIndex: 40 entries, 0 to 39\n",
      "Data columns (total 19 columns):\n",
      " #   Column                    Non-Null Count  Dtype  \n",
      "---  ------                    --------------  -----  \n",
      " 0   file_name                 40 non-null     object \n",
      " 1   file_size                 40 non-null     int64  \n",
      " 2   md5                       40 non-null     object \n",
      " 3   parse_error               0 non-null      object \n",
      " 4   is_packed                 40 non-null     int64  \n",
      " 5   number_of_sections        40 non-null     int64  \n",
      " 6   imported_dlls_count       40 non-null     int64  \n",
      " 7   imported_functions_count  40 non-null     int64  \n",
      " 8   compile_date              40 non-null     object \n",
      " 9   days_since_compile        40 non-null     int64  \n",
      " 10  avg_entropy               40 non-null     float64\n",
      " 11  max_entropy               40 non-null     float64\n",
      " 12  is_dll                    40 non-null     int64  \n",
      " 13  is_exe                    40 non-null     int64  \n",
      " 14  is_32bit                  40 non-null     int64  \n",
      " 15  is_64bit                  40 non-null     int64  \n",
      " 16  suspicious_dll_count      40 non-null     int64  \n",
      " 17  section_names             40 non-null     object \n",
      " 18  imported_dlls             40 non-null     object \n",
      "dtypes: float64(2), int64(11), object(6)\n",
      "memory usage: 6.1+ KB\n",
      "None\n"
     ]
    }
   ],
   "source": [
    "print(\"\\nInformación básica del dataset:\")\n",
    "print(df.info())"
   ]
  },
  {
   "cell_type": "code",
   "execution_count": 86,
   "metadata": {},
   "outputs": [
    {
     "name": "stdout",
     "output_type": "stream",
     "text": [
      "\n",
      "Estadísticas descriptivas para columnas numéricas:\n",
      "          file_size  is_packed  number_of_sections  imported_dlls_count  \\\n",
      "count      40.00000  40.000000           40.000000            40.000000   \n",
      "mean    72217.60000   0.800000            3.025000             5.875000   \n",
      "std    129008.10712   0.405096            0.158114             1.522271   \n",
      "min      5120.00000   0.000000            3.000000             4.000000   \n",
      "25%      5632.00000   1.000000            3.000000             5.000000   \n",
      "50%      5632.00000   1.000000            3.000000             5.000000   \n",
      "75%     15360.00000   1.000000            3.000000             7.000000   \n",
      "max    348160.00000   1.000000            4.000000             9.000000   \n",
      "\n",
      "       imported_functions_count  days_since_compile  avg_entropy  max_entropy  \\\n",
      "count                 40.000000           40.000000    40.000000    40.000000   \n",
      "mean                  23.775000         5473.100000     3.767030     7.335515   \n",
      "std                   31.027273          401.532628     0.531852     0.584640   \n",
      "min                    7.000000         4888.000000     3.379585     6.121422   \n",
      "25%                    8.000000         5134.250000     3.444554     7.307109   \n",
      "50%                    8.000000         5530.000000     3.507945     7.537606   \n",
      "75%                   11.250000         5776.000000     3.760935     7.578379   \n",
      "max                   85.000000         6319.000000     4.884864     7.899583   \n",
      "\n",
      "          is_dll     is_exe  is_32bit  is_64bit  suspicious_dll_count  \n",
      "count  40.000000  40.000000      40.0      40.0             40.000000  \n",
      "mean    0.125000   0.875000       1.0       0.0              2.300000  \n",
      "std     0.334932   0.334932       0.0       0.0              0.939176  \n",
      "min     0.000000   0.000000       1.0       0.0              1.000000  \n",
      "25%     0.000000   1.000000       1.0       0.0              2.000000  \n",
      "50%     0.000000   1.000000       1.0       0.0              2.000000  \n",
      "75%     0.000000   1.000000       1.0       0.0              3.000000  \n",
      "max     1.000000   1.000000       1.0       0.0              4.000000  \n"
     ]
    }
   ],
   "source": [
    "print(\"\\nEstadísticas descriptivas para columnas numéricas:\")\n",
    "print(df.describe())"
   ]
  },
  {
   "cell_type": "code",
   "execution_count": 87,
   "metadata": {},
   "outputs": [
    {
     "name": "stdout",
     "output_type": "stream",
     "text": [
      "\n",
      "Valores nulos por columna:\n",
      "parse_error    40\n",
      "dtype: int64\n"
     ]
    }
   ],
   "source": [
    "#Verificar valores nulos\n",
    "print(\"\\nValores nulos por columna:\")\n",
    "missing_values = df.isnull().sum()\n",
    "print(missing_values[missing_values > 0])"
   ]
  },
  {
   "cell_type": "markdown",
   "metadata": {},
   "source": [
    "## Visualizaciones básicas"
   ]
  },
  {
   "cell_type": "code",
   "execution_count": 88,
   "metadata": {},
   "outputs": [
    {
     "data": {
      "text/plain": [
       "Text(0, 0.5, '')"
      ]
     },
     "execution_count": 88,
     "metadata": {},
     "output_type": "execute_result"
    },
    {
     "data": {
      "image/png": "[encoded data removed]",
      "text/plain": [
       "<Figure size 640x480 with 1 Axes>"
      ]
     },
     "metadata": {},
     "output_type": "display_data"
    }
   ],
   "source": [
    "plt.subplot(1, 2, 1)\n",
    "df['is_packed'].value_counts().plot(kind='pie', autopct='%1.1f%%', colors=['lightblue', 'salmon'])\n",
    "plt.title('Distribución de Archivos Empaquetados')\n",
    "plt.ylabel('')"
   ]
  },
  {
   "cell_type": "code",
   "execution_count": 89,
   "metadata": {},
   "outputs": [
    {
     "data": {
      "text/plain": [
       "<matplotlib.legend.Legend at 0x23667f66b60>"
      ]
     },
     "execution_count": 89,
     "metadata": {},
     "output_type": "execute_result"
    },
    {
     "data": {
      "image/png": "[encoded data removed]",
      "text/plain": [
       "<Figure size 640x480 with 1 Axes>"
      ]
     },
     "metadata": {},
     "output_type": "display_data"
    }
   ],
   "source": [
    "plt.subplot(1, 2, 2)\n",
    "sns.histplot(df['avg_entropy'].dropna(), kde=True)\n",
    "plt.axvline(x=7.0, color='r', linestyle='--', label='Umbral de alta entropía')\n",
    "plt.title('Distribución de Entropía')\n",
    "plt.legend()"
   ]
  },
  {
   "cell_type": "markdown",
   "metadata": {},
   "source": [
    "## Preprocesamiento"
   ]
  },
  {
   "cell_type": "code",
   "execution_count": 90,
   "metadata": {},
   "outputs": [],
   "source": [
    "#Seleccionar solo características numéricas\n",
    "numerical_features = ['file_size', 'is_packed', 'number_of_sections', 'imported_dlls_count', \n",
    "                    'imported_functions_count', 'days_since_compile', 'avg_entropy', \n",
    "                    'max_entropy', 'is_dll', 'is_exe', 'suspicious_dll_count']"
   ]
  },
  {
   "cell_type": "code",
   "execution_count": 91,
   "metadata": {},
   "outputs": [],
   "source": [
    "#Manejar valores faltantes con la mediana\n",
    "df_clean = df[numerical_features].copy()\n",
    "df_clean = df_clean.fillna(df_clean.median())"
   ]
  },
  {
   "cell_type": "code",
   "execution_count": 92,
   "metadata": {},
   "outputs": [
    {
     "name": "stdout",
     "output_type": "stream",
     "text": [
      "Dataset limpio con 40 filas y 11 columnas.\n",
      "Columnas seleccionadas: ['file_size', 'is_packed', 'number_of_sections', 'imported_dlls_count', 'imported_functions_count', 'days_since_compile', 'avg_entropy', 'max_entropy', 'is_dll', 'is_exe', 'suspicious_dll_count']\n"
     ]
    }
   ],
   "source": [
    "print(f\"Dataset limpio con {df_clean.shape[0]} filas y {df_clean.shape[1]} columnas.\")\n",
    "print(\"Columnas seleccionadas:\", numerical_features)"
   ]
  },
  {
   "cell_type": "code",
   "execution_count": 93,
   "metadata": {},
   "outputs": [],
   "source": [
    "#Normalización/Estandarización\n",
    "scaler = StandardScaler()\n",
    "df_scaled = pd.DataFrame(\n",
    "    scaler.fit_transform(df_clean),\n",
    "    columns=df_clean.columns\n",
    ")"
   ]
  },
  {
   "cell_type": "code",
   "execution_count": 94,
   "metadata": {},
   "outputs": [
    {
     "name": "stdout",
     "output_type": "stream",
     "text": [
      "Dataset escalado (primeras 5 filas):\n",
      "   file_size  is_packed  number_of_sections  imported_dlls_count  \\\n",
      "0   -0.52673        0.5           -0.160128            -1.247404   \n",
      "1   -0.52271        0.5           -0.160128            -0.582122   \n",
      "2   -0.52271        0.5           -0.160128            -0.582122   \n",
      "3   -0.52271        0.5           -0.160128            -0.582122   \n",
      "4   -0.52271        0.5           -0.160128            -0.582122   \n",
      "\n",
      "   imported_functions_count  days_since_compile  avg_entropy  max_entropy  \\\n",
      "0                 -0.547541            0.143512    -0.737762     0.397637   \n",
      "1                 -0.514901            2.133516    -0.495134     0.342715   \n",
      "2                 -0.514901            2.133516    -0.496089     0.340109   \n",
      "3                 -0.514901            0.763970    -0.492902     0.348808   \n",
      "4                 -0.514901            0.763970    -0.491575     0.352430   \n",
      "\n",
      "     is_dll    is_exe  suspicious_dll_count  \n",
      "0 -0.377964  0.377964             -1.401826  \n",
      "1 -0.377964  0.377964             -0.323498  \n",
      "2 -0.377964  0.377964             -0.323498  \n",
      "3 -0.377964  0.377964             -0.323498  \n",
      "4 -0.377964  0.377964             -0.323498  \n"
     ]
    }
   ],
   "source": [
    "print(\"Dataset escalado (primeras 5 filas):\")\n",
    "print(df_scaled.head())"
   ]
  },
  {
   "cell_type": "code",
   "execution_count": 95,
   "metadata": {},
   "outputs": [],
   "source": [
    "df_clean.to_csv('datasets/malware_dataset_clean.csv', index=False)"
   ]
  },
  {
   "cell_type": "code",
   "execution_count": 96,
   "metadata": {},
   "outputs": [
    {
     "name": "stdout",
     "output_type": "stream",
     "text": [
      "\n",
      "Preprocesamiento completado. Dataset guardado:\n",
      "* malware_dataset_clean.csv: Dataset limpio con características numéricas\n"
     ]
    }
   ],
   "source": [
    "print(\"\\nPreprocesamiento completado. Dataset guardado:\")\n",
    "print(\"* malware_dataset_clean.csv: Dataset limpio con características numéricas\")"
   ]
  }
 ],
 "metadata": {
  "kernelspec": {
   "display_name": "Python 3",
   "language": "python",
   "name": "python3"
  },
  "language_info": {
   "codemirror_mode": {
    "name": "ipython",
    "version": 3
   },
   "file_extension": ".py",
   "mimetype": "text/x-python",
   "name": "python",
   "nbconvert_exporter": "python",
   "pygments_lexer": "ipython3",
   "version": "3.10.11"
  }
 },
 "nbformat": 4,
 "nbformat_minor": 2
}
