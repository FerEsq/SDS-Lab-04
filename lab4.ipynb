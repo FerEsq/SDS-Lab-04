{
 "cells": [
  {
   "cell_type": "markdown",
   "metadata": {},
   "source": [
    "## Lab 3. Detección de Malware\n",
    "\n",
    "### Miembros\n",
    "* Fernanda Esquivel - 21542\n",
    "* Andrés Montoya - 21552\n",
    "\n",
    "### Link al repositorio\n",
    "El repositorio puede ser visualizado [acá](https://github.com/FerEsq/SDS-Lab-04)"
   ]
  },
  {
   "cell_type": "markdown",
   "metadata": {},
   "source": [
    "# Creación del dataset"
   ]
  },
  {
   "cell_type": "code",
   "execution_count": 1911,
   "metadata": {},
   "outputs": [],
   "source": [
    "import os\n",
    "import pandas as pd\n",
    "import numpy as np\n",
    "import pefile\n",
    "import hashlib\n",
    "import warnings\n",
    "import matplotlib.pyplot as plt\n",
    "import seaborn as sns\n",
    "from sklearn.preprocessing import StandardScaler\n",
    "from sklearn.decomposition import PCA\n",
    "from sklearn.impute import SimpleImputer\n",
    "from sklearn.cluster import KMeans\n",
    "from sklearn.manifold import TSNE\n",
    "from datetime import datetime\n",
    "import shutil\n",
    "import subprocess\n",
    "warnings.filterwarnings('ignore')"
   ]
  },
  {
   "cell_type": "markdown",
   "metadata": {},
   "source": [
    "### 0. Desempaquetar los archivos"
   ]
  },
  {
   "cell_type": "code",
   "execution_count": 1912,
   "metadata": {},
   "outputs": [],
   "source": [
    "unpacked_dir = \"unpacked/\""
   ]
  },
  {
   "cell_type": "code",
   "execution_count": 1913,
   "metadata": {},
   "outputs": [],
   "source": [
    "# 0. Desempaquetar los archivos\n",
    "def check_if_packed(file_path):\n",
    "    print(\"\\nAnalyzing file: \", os.path.basename(file_path))\n",
    "    print(\"=\" * 50)\n",
    "    # known packers\n",
    "    suspicious_sections = ['.UPX', 'UPX', '.pak', 'pec2', '.ASPack', '.adata']\n",
    "    pe = pefile.PE(file_path)\n",
    "    counter = 0\n",
    "    for section in pe.sections:\n",
    "        print(section.Name, \n",
    "              hex(section.VirtualAddress), \n",
    "              hex(section.Misc_VirtualSize), \n",
    "              section.SizeOfRawData)\n",
    "        \n",
    "        section_name = section.Name.decode().rstrip('\\x00')\n",
    "        if any(sus in section_name for sus in suspicious_sections):\n",
    "            counter += 1\n",
    "    if counter > 0:\n",
    "        return True\n",
    "    else:\n",
    "        return False\n",
    "\n",
    "def unpackFile(file_path):\n",
    "    subprocess.run([r\"C:\\Users\\monto\\OneDrive\\Documents\\UVG\\Malware\\upx-5.0.0-win64\\upx-5.0.0-win64\\upx.exe\", \"-d\", file_path, \"-o\", os.path.join(unpacked_dir, os.path.basename(file_path))])"
   ]
  },
  {
   "cell_type": "code",
   "execution_count": 1914,
   "metadata": {},
   "outputs": [],
   "source": [
    "if not os.path.exists(unpacked_dir):\n",
    "    os.makedirs(unpacked_dir)\n",
    "\n",
    "    for file in os.listdir(\"malwr/MALWR\"):\n",
    "        file_path = os.path.join(\"malwr/MALWR/\", file)\n",
    "        if check_if_packed(file_path):\n",
    "            print(\"File is packed, unpacking...\")\n",
    "            unpackFile(file_path)\n",
    "        else:\n",
    "            shutil.copy(file_path, unpacked_dir)"
   ]
  },
  {
   "cell_type": "code",
   "execution_count": 1915,
   "metadata": {},
   "outputs": [],
   "source": [
    "# 1. Creación del dataset mediante análisis estático (enfocado)\n",
    "def getFileHash(file_path):\n",
    "    \"\"\"Calcular el hash MD5 de un archivo.\"\"\"\n",
    "    hash_md5 = hashlib.md5()\n",
    "    with open(file_path, \"rb\") as f:\n",
    "        for chunk in iter(lambda: f.read(4096), b\"\"):\n",
    "            hash_md5.update(chunk)\n",
    "    return hash_md5.hexdigest()"
   ]
  },
  {
   "cell_type": "code",
   "execution_count": 1916,
   "metadata": {},
   "outputs": [],
   "source": [
    "def getPEFeatures(file_path):\n",
    "    \"\"\"Extraer características estáticas clave de un archivo PE.\"\"\"\n",
    "    features = {}\n",
    "    \n",
    "    # Metadatos básicos del archivo\n",
    "    features['file_name'] = os.path.basename(file_path)\n",
    "    features['file_size'] = os.path.getsize(file_path)\n",
    "    features['md5'] = getFileHash(file_path)\n",
    "    \n",
    "    try:\n",
    "        pe = pefile.PE(file_path)\n",
    "        \n",
    "        #Secciones\n",
    "        section_names = []\n",
    "        section_entropies = []\n",
    "        \n",
    "        if hasattr(pe, 'sections'):\n",
    "            for section in pe.sections:\n",
    "                name = section.Name.decode('utf-8', 'ignore').strip('\\x00')\n",
    "                section_names.append(name)\n",
    "                \n",
    "                #Calcular entropía de la sección\n",
    "                entropy = 0\n",
    "                if len(section.get_data()) > 0:\n",
    "                    byte_counts = {}\n",
    "                    for byte in section.get_data():\n",
    "                        if isinstance(byte, int):  # Para Python 3\n",
    "                            byte_counts[byte] = byte_counts.get(byte, 0) + 1\n",
    "                        else:  # Para Python 2\n",
    "                            byte_counts[ord(byte)] = byte_counts.get(ord(byte), 0) + 1\n",
    "                    \n",
    "                    for count in byte_counts.values():\n",
    "                        probability = float(count) / len(section.get_data())\n",
    "                        entropy -= probability * np.log2(probability)\n",
    "                \n",
    "                section_entropies.append(entropy)\n",
    "        \n",
    "        features['section_names'] = '|'.join(section_names)\n",
    "        features['number_of_sections'] = len(section_names)\n",
    "        \n",
    "        #DLLs y funciones utilizadas\n",
    "        imported_dlls = []\n",
    "        imported_functions_count = 0\n",
    "        \n",
    "        if hasattr(pe, 'DIRECTORY_ENTRY_IMPORT'):\n",
    "            for entry in pe.DIRECTORY_ENTRY_IMPORT:\n",
    "                dll_name = entry.dll.decode('utf-8', 'ignore')\n",
    "                imported_dlls.append(dll_name.lower())\n",
    "                imported_functions_count += len(entry.imports)\n",
    "        \n",
    "        features['imported_dlls'] = '|'.join(imported_dlls)\n",
    "        features['imported_dlls_count'] = len(imported_dlls)\n",
    "        features['imported_functions_count'] = imported_functions_count\n",
    "        \n",
    "        #Detección de DLLs sospechosas\n",
    "        suspicious_dlls = ['ws2_32.dll', 'wininet.dll', 'urlmon.dll', 'shell32.dll', 'advapi32.dll']\n",
    "        suspicious_dll_count = sum(1 for dll in imported_dlls if dll.lower() in suspicious_dlls)\n",
    "        features['suspicious_dll_count'] = suspicious_dll_count\n",
    "        \n",
    "        #Fecha de compilación\n",
    "        if hasattr(pe, 'FILE_HEADER'):\n",
    "            timestamp = pe.FILE_HEADER.TimeDateStamp\n",
    "            try:\n",
    "                compile_date = datetime.fromtimestamp(timestamp).strftime('%Y-%m-%d')\n",
    "                features['compile_date'] = compile_date\n",
    "                \n",
    "                #Antigüedad del ejecutable (en días desde la fecha actual)\n",
    "                days_since_compile = (datetime.now() - datetime.fromtimestamp(timestamp)).days\n",
    "                features['days_since_compile'] = days_since_compile\n",
    "            except:\n",
    "                #Los timestamps son inválidos\n",
    "                features['compile_date'] = 'Invalid'\n",
    "                features['days_since_compile'] = -1\n",
    "        \n",
    "        #Entropía general del archivo\n",
    "        if hasattr(pe, 'sections'):\n",
    "            # Entropía promedio de todas las secciones\n",
    "            features['avg_entropy'] = np.mean(section_entropies) if section_entropies else 0\n",
    "            features['max_entropy'] = max(section_entropies) if section_entropies else 0\n",
    "        \n",
    "        #Características adicionales\n",
    "        #Tipo de archivo\n",
    "        features['is_dll'] = 1 if pe.is_dll() else 0\n",
    "        features['is_exe'] = 1 if pe.is_exe() else 0\n",
    "        \n",
    "        #Arquitectura\n",
    "        features['is_32bit'] = 1 if pe.FILE_HEADER.Machine == 0x14c else 0\n",
    "        features['is_64bit'] = 1 if pe.FILE_HEADER.Machine == 0x8664 else 0\n",
    "        \n",
    "        #Liberar recursos\n",
    "        pe.close()\n",
    "    \n",
    "    except Exception as e:\n",
    "        #Si hay algún error, devolver características básicas solamente\n",
    "        features['parse_error'] = str(e)\n",
    "        features['is_packed'] = -1  # Desconocido\n",
    "        features['number_of_sections'] = -1\n",
    "        features['imported_dlls_count'] = -1\n",
    "        features['imported_functions_count'] = -1\n",
    "        features['compile_date'] = 'Unknown'\n",
    "        features['days_since_compile'] = -1\n",
    "        features['avg_entropy'] = -1\n",
    "        features['max_entropy'] = -1\n",
    "        features['is_dll'] = -1\n",
    "        features['is_exe'] = -1\n",
    "        features['is_32bit'] = -1\n",
    "        features['is_64bit'] = -1\n",
    "        features['suspicious_dll_count'] = -1\n",
    "    \n",
    "    return features"
   ]
  },
  {
   "cell_type": "code",
   "execution_count": 1917,
   "metadata": {},
   "outputs": [],
   "source": [
    "def createMalwareDataset(malware_directory):\n",
    "    \"\"\"Crear un dataset a partir de archivos de malware en un directorio.\"\"\"\n",
    "    data = []\n",
    "    files = []\n",
    "    \n",
    "    #Obtener todos los archivos en el directorio recursivamente\n",
    "    for root, dirs, filenames in os.walk(malware_directory):\n",
    "        for filename in filenames:\n",
    "            file_path = os.path.join(root, filename)\n",
    "            files.append(file_path)\n",
    "    \n",
    "    print(f\"Encontrados {len(files)} archivos para analizar.\")\n",
    "    \n",
    "    #Procesar cada archivo\n",
    "    for i, file_path in enumerate(files):\n",
    "        try:\n",
    "            features = getPEFeatures(file_path)\n",
    "            data.append(features)\n",
    "            if (i + 1) % 100 == 0:\n",
    "                print(f\"Procesados {i + 1} archivos...\")\n",
    "        except Exception as e:\n",
    "            print(f\"Error en archivo {file_path}: {str(e)}\")\n",
    "    \n",
    "    #Crear DataFrame\n",
    "    df = pd.DataFrame(data)\n",
    "    return df"
   ]
  },
  {
   "cell_type": "code",
   "execution_count": 1918,
   "metadata": {},
   "outputs": [
    {
     "name": "stdout",
     "output_type": "stream",
     "text": [
      "Encontrados 40 archivos para analizar.\n",
      "Dataset creado con 40 filas y 17 columnas.\n",
      "Dataset bruto guardado como 'datasets/malware_dataset_raw.csv'\n"
     ]
    }
   ],
   "source": [
    "malware_directory = \"unpacked/\"\n",
    "\n",
    "#Crear el dataset\n",
    "df = createMalwareDataset(malware_directory)\n",
    "print(f\"Dataset creado con {df.shape[0]} filas y {df.shape[1]} columnas.\")\n",
    "\n",
    "#Guardar el dataset bruto\n",
    "df.to_csv(\"datasets/malware_dataset_raw.csv\", index=False)\n",
    "print(\"Dataset bruto guardado como 'datasets/malware_dataset_raw.csv'\")"
   ]
  },
  {
   "cell_type": "markdown",
   "metadata": {},
   "source": [
    "# Exploración y pre-procesamiento de datos"
   ]
  },
  {
   "cell_type": "markdown",
   "metadata": {},
   "source": [
    "## Carga del dataset"
   ]
  },
  {
   "cell_type": "code",
   "execution_count": 1919,
   "metadata": {},
   "outputs": [
    {
     "name": "stdout",
     "output_type": "stream",
     "text": [
      "Dataset cargado con 40 filas y 17 columnas.\n"
     ]
    }
   ],
   "source": [
    "df = pd.read_csv('datasets/malware_dataset_raw.csv')\n",
    "print(f\"Dataset cargado con {df.shape[0]} filas y {df.shape[1]} columnas.\")"
   ]
  },
  {
   "cell_type": "code",
   "execution_count": 1920,
   "metadata": {},
   "outputs": [
    {
     "name": "stdout",
     "output_type": "stream",
     "text": [
      "Dataset después de eliminar la primera fila: 39 filas y 17 columnas.\n"
     ]
    }
   ],
   "source": [
    "#Eliminar la primera fila\n",
    "df = df.iloc[1:].reset_index(drop=True)\n",
    "print(f\"Dataset después de eliminar la primera fila: {df.shape[0]} filas y {df.shape[1]} columnas.\")"
   ]
  },
  {
   "cell_type": "markdown",
   "metadata": {},
   "source": [
    "## Exploración básica del dataset"
   ]
  },
  {
   "cell_type": "code",
   "execution_count": 1921,
   "metadata": {},
   "outputs": [
    {
     "name": "stdout",
     "output_type": "stream",
     "text": [
      "\n",
      "Información básica del dataset:\n",
      "<class 'pandas.core.frame.DataFrame'>\n",
      "RangeIndex: 39 entries, 0 to 38\n",
      "Data columns (total 17 columns):\n",
      " #   Column                    Non-Null Count  Dtype  \n",
      "---  ------                    --------------  -----  \n",
      " 0   file_name                 39 non-null     object \n",
      " 1   file_size                 39 non-null     int64  \n",
      " 2   md5                       39 non-null     object \n",
      " 3   section_names             39 non-null     object \n",
      " 4   number_of_sections        39 non-null     int64  \n",
      " 5   imported_dlls             39 non-null     object \n",
      " 6   imported_dlls_count       39 non-null     int64  \n",
      " 7   imported_functions_count  39 non-null     int64  \n",
      " 8   suspicious_dll_count      39 non-null     int64  \n",
      " 9   compile_date              39 non-null     object \n",
      " 10  days_since_compile        39 non-null     int64  \n",
      " 11  avg_entropy               39 non-null     float64\n",
      " 12  max_entropy               39 non-null     float64\n",
      " 13  is_dll                    39 non-null     int64  \n",
      " 14  is_exe                    39 non-null     int64  \n",
      " 15  is_32bit                  39 non-null     int64  \n",
      " 16  is_64bit                  39 non-null     int64  \n",
      "dtypes: float64(2), int64(10), object(5)\n",
      "memory usage: 5.3+ KB\n",
      "None\n"
     ]
    }
   ],
   "source": [
    "print(\"\\nInformación básica del dataset:\")\n",
    "print(df.info())"
   ]
  },
  {
   "cell_type": "code",
   "execution_count": 1922,
   "metadata": {},
   "outputs": [
    {
     "name": "stdout",
     "output_type": "stream",
     "text": [
      "\n",
      "Estadísticas descriptivas para columnas numéricas:\n",
      "           file_size  number_of_sections  imported_dlls_count  \\\n",
      "count      39.000000           39.000000            39.000000   \n",
      "mean   154479.589744            3.794872             5.897436   \n",
      "std    288073.100699            0.522115             1.535456   \n",
      "min      7168.000000            3.000000             4.000000   \n",
      "25%      8192.000000            3.500000             5.000000   \n",
      "50%      8192.000000            4.000000             5.000000   \n",
      "75%     17408.000000            4.000000             7.000000   \n",
      "max    762880.000000            5.000000             9.000000   \n",
      "\n",
      "       imported_functions_count  suspicious_dll_count  days_since_compile  \\\n",
      "count                 39.000000             39.000000           39.000000   \n",
      "mean                 104.230769              2.307692         5467.230769   \n",
      "std                   74.309616              0.950176          403.593103   \n",
      "min                   51.000000              1.000000         4890.000000   \n",
      "25%                   62.000000              2.000000         5101.500000   \n",
      "50%                   62.000000              2.000000         5532.000000   \n",
      "75%                   85.000000              3.000000         5778.000000   \n",
      "max                  260.000000              4.000000         6320.000000   \n",
      "\n",
      "       avg_entropy  max_entropy     is_dll     is_exe  is_32bit  is_64bit  \n",
      "count    39.000000    39.000000  39.000000  39.000000      39.0      39.0  \n",
      "mean      4.059005     6.163556   0.128205   0.871795       1.0       0.0  \n",
      "std       1.071463     0.262540   0.338688   0.338688       0.0       0.0  \n",
      "min       2.968286     5.869729   0.000000   0.000000       1.0       0.0  \n",
      "25%       3.126451     5.925869   0.000000   1.000000       1.0       0.0  \n",
      "50%       3.145202     6.071121   0.000000   1.000000       1.0       0.0  \n",
      "75%       4.844041     6.241383   0.000000   1.000000       1.0       0.0  \n",
      "max       5.936241     6.640945   1.000000   1.000000       1.0       0.0  \n"
     ]
    }
   ],
   "source": [
    "print(\"\\nEstadísticas descriptivas para columnas numéricas:\")\n",
    "print(df.describe())"
   ]
  },
  {
   "cell_type": "code",
   "execution_count": 1923,
   "metadata": {},
   "outputs": [
    {
     "name": "stdout",
     "output_type": "stream",
     "text": [
      "\n",
      "Valores nulos por columna:\n",
      "Series([], dtype: int64)\n"
     ]
    }
   ],
   "source": [
    "#Verificar valores nulos\n",
    "print(\"\\nValores nulos por columna:\")\n",
    "missing_values = df.isnull().sum()\n",
    "print(missing_values[missing_values > 0])"
   ]
  },
  {
   "cell_type": "markdown",
   "metadata": {},
   "source": [
    "## Visualizaciones básicas"
   ]
  },
  {
   "cell_type": "code",
   "execution_count": 1924,
   "metadata": {},
   "outputs": [
    {
     "data": {
      "text/plain": [
       "<matplotlib.legend.Legend at 0x316b53df0>"
      ]
     },
     "execution_count": 1924,
     "metadata": {},
     "output_type": "execute_result"
    },
    {
     "data": {
      "image/png": "[encoded data removed]",
      "text/plain": [
       "<Figure size 640x480 with 1 Axes>"
      ]
     },
     "metadata": {},
     "output_type": "display_data"
    }
   ],
   "source": [
    "plt.subplot(1, 2, 2)\n",
    "sns.histplot(df['avg_entropy'].dropna(), kde=True)\n",
    "plt.axvline(x=7.0, color='r', linestyle='--', label='Umbral de alta entropía')\n",
    "plt.title('Distribución de Entropía')\n",
    "plt.legend()"
   ]
  },
  {
   "cell_type": "markdown",
   "metadata": {},
   "source": [
    "## Preprocesamiento"
   ]
  },
  {
   "cell_type": "code",
   "execution_count": 1925,
   "metadata": {},
   "outputs": [],
   "source": [
    "#Seleccionar solo características numéricas\n",
    "numerical_features = ['file_size', 'number_of_sections', 'imported_dlls_count', \n",
    "                    'imported_functions_count', 'days_since_compile', 'avg_entropy', \n",
    "                    'max_entropy', 'suspicious_dll_count']"
   ]
  },
  {
   "cell_type": "code",
   "execution_count": 1926,
   "metadata": {},
   "outputs": [],
   "source": [
    "#Manejar valores faltantes con la mediana\n",
    "df_numerical = df[numerical_features].copy()\n",
    "df_numerical = df_numerical.fillna(df_numerical.median())"
   ]
  },
  {
   "cell_type": "code",
   "execution_count": 1927,
   "metadata": {},
   "outputs": [],
   "source": [
    "scaler = StandardScaler()\n",
    "df_scaled = pd.DataFrame(\n",
    "    scaler.fit_transform(df_numerical),\n",
    "    columns=df_numerical.columns\n",
    ")"
   ]
  },
  {
   "cell_type": "code",
   "execution_count": 1928,
   "metadata": {},
   "outputs": [],
   "source": [
    "df_boolean = df[['is_dll', 'is_exe']].copy()\n",
    "df_boolean = df_boolean.fillna(df_boolean.mode().iloc[0])"
   ]
  },
  {
   "cell_type": "code",
   "execution_count": 1929,
   "metadata": {},
   "outputs": [],
   "source": [
    "all_dlls = set()\n",
    "for dlls_str in df['imported_dlls']:\n",
    "    if dlls_str: \n",
    "        dlls = dlls_str.split('|')\n",
    "        all_dlls.update(dlls)\n",
    "\n",
    "dll_dict = {f'dll_{dll}': [] for dll in all_dlls}\n",
    "\n",
    "for dlls_str in df['imported_dlls']:\n",
    "    if dlls_str:\n",
    "        dlls = set(dlls_str.split('|'))\n",
    "        for dll in all_dlls:\n",
    "            dll_dict[f'dll_{dll}'].append(1 if dll in dlls else 0)\n",
    "    else:\n",
    "        for dll in all_dlls:\n",
    "            dll_dict[f'dll_{dll}'].append(0)"
   ]
  },
  {
   "cell_type": "code",
   "execution_count": 1930,
   "metadata": {},
   "outputs": [],
   "source": [
    "dll_dummies = pd.DataFrame(dll_dict)\n",
    "\n",
    "df_with_dlls = pd.concat([df.drop('imported_dlls', axis=1), dll_dummies], axis=1)"
   ]
  },
  {
   "cell_type": "code",
   "execution_count": 1931,
   "metadata": {},
   "outputs": [],
   "source": [
    "df_clean = pd.concat([df_scaled, df_boolean, dll_dummies], axis=1)"
   ]
  },
  {
   "cell_type": "code",
   "execution_count": 1932,
   "metadata": {},
   "outputs": [
    {
     "name": "stdout",
     "output_type": "stream",
     "text": [
      "Dataset limpio con 39 filas y 21 columnas.\n",
      "Columnas seleccionadas: ['file_size', 'number_of_sections', 'imported_dlls_count', 'imported_functions_count', 'days_since_compile', 'avg_entropy', 'max_entropy', 'suspicious_dll_count']\n"
     ]
    }
   ],
   "source": [
    "print(f\"Dataset limpio con {df_clean.shape[0]} filas y {df_clean.shape[1]} columnas.\")\n",
    "print(\"Columnas seleccionadas:\", numerical_features)"
   ]
  },
  {
   "cell_type": "code",
   "execution_count": 1933,
   "metadata": {},
   "outputs": [],
   "source": [
    "df_clean.to_csv('datasets/malware_dataset_clean.csv', index=False)"
   ]
  },
  {
   "cell_type": "code",
   "execution_count": 1934,
   "metadata": {},
   "outputs": [
    {
     "name": "stdout",
     "output_type": "stream",
     "text": [
      "\n",
      "Preprocesamiento completado. Dataset guardado:\n",
      "* malware_dataset_clean.csv: Dataset limpio con características numéricas\n"
     ]
    }
   ],
   "source": [
    "print(\"\\nPreprocesamiento completado. Dataset guardado:\")\n",
    "print(\"* malware_dataset_clean.csv: Dataset limpio con características numéricas\")"
   ]
  },
  {
   "cell_type": "markdown",
   "metadata": {},
   "source": [
    "# Implementación del modelo"
   ]
  },
  {
   "cell_type": "code",
   "execution_count": 1935,
   "metadata": {},
   "outputs": [],
   "source": [
    "from sklearn.cluster import KMeans, AgglomerativeClustering\n",
    "from sklearn.metrics import silhouette_score, silhouette_samples\n",
    "from scipy.cluster.hierarchy import dendrogram, linkage\n",
    "import matplotlib.cm as cm"
   ]
  },
  {
   "cell_type": "code",
   "execution_count": 1936,
   "metadata": {},
   "outputs": [
    {
     "name": "stdout",
     "output_type": "stream",
     "text": [
      "Dataset cargado con 39 filas y 21 columnas\n"
     ]
    }
   ],
   "source": [
    "#Carga del dataset limpio\n",
    "df_clean = pd.read_csv('datasets/malware_dataset_clean.csv')\n",
    "print(f\"Dataset cargado con {df_clean.shape[0]} filas y {df_clean.shape[1]} columnas\")"
   ]
  },
  {
   "cell_type": "code",
   "execution_count": 1937,
   "metadata": {},
   "outputs": [],
   "source": [
    "binary_cols = [col for col in df_clean.columns if col not in numerical_features]"
   ]
  },
  {
   "cell_type": "code",
   "execution_count": 1938,
   "metadata": {},
   "outputs": [],
   "source": [
    "#Escalar las características\n",
    "scaler = StandardScaler()\n",
    "X_numeric_scaled = scaler.fit_transform(df_clean[numerical_features])\n",
    "X_numeric_df = pd.DataFrame(X_numeric_scaled, columns=numerical_features)\n",
    "\n",
    "X_binary_df = df_clean[binary_cols]\n",
    "X_df = pd.concat([X_numeric_df, X_binary_df], axis=1)\n",
    "X_scaled = X_df.values"
   ]
  },
  {
   "cell_type": "markdown",
   "metadata": {},
   "source": [
    "## Funciones"
   ]
  },
  {
   "cell_type": "code",
   "execution_count": 1939,
   "metadata": {},
   "outputs": [],
   "source": [
    "#Función para visualizar el método del codo\n",
    "def plotElbowMethod(X, max_k=10, title=\"Método del Codo para K-means\"):\n",
    "    inertias = []\n",
    "    K_range = range(1, max_k + 1)\n",
    "    \n",
    "    for k in K_range:\n",
    "        kmeans = KMeans(n_clusters=k, random_state=42, n_init=10)\n",
    "        kmeans.fit(X)\n",
    "        inertias.append(kmeans.inertia_)\n",
    "    \n",
    "    plt.figure(figsize=(10, 6))\n",
    "    plt.plot(K_range, inertias, 'bo-')\n",
    "    plt.xlabel('Número de clusters (k)')\n",
    "    plt.ylabel('Inercia')\n",
    "    plt.title(title)\n",
    "    plt.grid(True)\n",
    "    plt.show()\n",
    "    \n",
    "    return inertias"
   ]
  },
  {
   "cell_type": "code",
   "execution_count": 1940,
   "metadata": {},
   "outputs": [],
   "source": [
    "#Función para visualizar la silueta detallada para un k específico\n",
    "def plotSilhouetteAnalysis(X, kmeans_opt, agglomerative_opt):\n",
    "    fig, (ax1, ax2) = plt.subplots(1, 2, figsize=(15, 6))\n",
    "    \n",
    "    # K-means\n",
    "    kmeans = KMeans(n_clusters=kmeans_opt, random_state=42, n_init=10)\n",
    "    cluster_labels_kmeans = kmeans.fit_predict(X)\n",
    "    silhouette_avg_kmeans = silhouette_score(X, cluster_labels_kmeans)\n",
    "    sample_silhouette_values_kmeans = silhouette_samples(X, cluster_labels_kmeans)\n",
    "    \n",
    "    # Agglomerative\n",
    "    agg = AgglomerativeClustering(n_clusters=agglomerative_opt)\n",
    "    cluster_labels_agg = agg.fit_predict(X)\n",
    "    silhouette_avg_agg = silhouette_score(X, cluster_labels_agg)\n",
    "    sample_silhouette_values_agg = silhouette_samples(X, cluster_labels_agg)\n",
    "    \n",
    "    # Plot K-means silhouette\n",
    "    y_lower = 10\n",
    "    for i in range(kmeans_opt):\n",
    "        ith_cluster_silhouette_values = sample_silhouette_values_kmeans[cluster_labels_kmeans == i]\n",
    "        ith_cluster_silhouette_values.sort()\n",
    "        size_cluster_i = ith_cluster_silhouette_values.shape[0]\n",
    "        y_upper = y_lower + size_cluster_i\n",
    "        \n",
    "        color = cm.nipy_spectral(float(i) / kmeans_opt)\n",
    "        ax1.fill_betweenx(np.arange(y_lower, y_upper), 0, ith_cluster_silhouette_values,\n",
    "                        facecolor=color, edgecolor=color, alpha=0.7)\n",
    "        ax1.text(-0.05, y_lower + 0.5 * size_cluster_i, str(i))\n",
    "        y_lower = y_upper + 10\n",
    "    \n",
    "    ax1.set_title(f\"Análisis de Silhouette para K-means (k={kmeans_opt})\")\n",
    "    ax1.set_xlabel(\"Coeficiente de Silhouette\")\n",
    "    ax1.set_ylabel(\"Etiqueta del Cluster\")\n",
    "    ax1.axvline(x=silhouette_avg_kmeans, color=\"red\", linestyle=\"--\")\n",
    "    ax1.set_yticks([])\n",
    "    ax1.set_xlim([-0.1, 1])\n",
    "    \n",
    "    # Plot Agglomerative silhouette\n",
    "    y_lower = 10\n",
    "    for i in range(agglomerative_opt):\n",
    "        ith_cluster_silhouette_values = sample_silhouette_values_agg[cluster_labels_agg == i]\n",
    "        ith_cluster_silhouette_values.sort()\n",
    "        size_cluster_i = ith_cluster_silhouette_values.shape[0]\n",
    "        y_upper = y_lower + size_cluster_i\n",
    "        \n",
    "        color = cm.nipy_spectral(float(i) / agglomerative_opt)\n",
    "        ax2.fill_betweenx(np.arange(y_lower, y_upper), 0, ith_cluster_silhouette_values,\n",
    "                        facecolor=color, edgecolor=color, alpha=0.7)\n",
    "        ax2.text(-0.05, y_lower + 0.5 * size_cluster_i, str(i))\n",
    "        y_lower = y_upper + 10\n",
    "    \n",
    "    ax2.set_title(f\"Análisis de Silhouette para Agglomerative (k={agglomerative_opt})\")\n",
    "    ax2.set_xlabel(\"Coeficiente de Silhouette\")\n",
    "    ax2.set_ylabel(\"Etiqueta del Cluster\")\n",
    "    ax2.axvline(x=silhouette_avg_agg, color=\"red\", linestyle=\"--\")\n",
    "    ax2.set_yticks([])\n",
    "    ax2.set_xlim([-0.1, 1])\n",
    "    \n",
    "    plt.tight_layout()\n",
    "    plt.show()\n",
    "    \n",
    "    return silhouette_avg_kmeans, silhouette_avg_agg"
   ]
  },
  {
   "cell_type": "code",
   "execution_count": 1941,
   "metadata": {},
   "outputs": [],
   "source": [
    "#Función para visualizar el dendrograma (para Agglomerative Clustering)\n",
    "def plotDendrogram(X, max_d=None):\n",
    "    # Crear un dendrograma\n",
    "    linked = linkage(X, 'ward')\n",
    "    \n",
    "    plt.figure(figsize=(12, 8))\n",
    "    dendrogram(linked,\n",
    "                orientation='top',\n",
    "                distance_sort='descending',\n",
    "                show_leaf_counts=True,\n",
    "                truncate_mode='level', \n",
    "                p=5)\n",
    "    \n",
    "    if max_d:\n",
    "        plt.axhline(y=max_d, c='k', linestyle='--', label=f'Distancia de corte = {max_d}')\n",
    "        plt.legend()\n",
    "    \n",
    "    plt.title('Dendrograma Jerárquico')\n",
    "    plt.xlabel('Muestras')\n",
    "    plt.ylabel('Distancia')\n",
    "    plt.show()"
   ]
  },
  {
   "cell_type": "code",
   "execution_count": 1942,
   "metadata": {},
   "outputs": [],
   "source": [
    "#Función para visualizar resultados de clustering\n",
    "def plotClusteringResults(X, k_kmeans, k_agg):\n",
    "    # Crear nuevos modelos con los k óptimos\n",
    "    kmeans = KMeans(n_clusters=k_kmeans, random_state=42, n_init=10)\n",
    "    kmeans_labels = kmeans.fit_predict(X)\n",
    "    \n",
    "    agg = AgglomerativeClustering(n_clusters=k_agg)\n",
    "    agg_labels = agg.fit_predict(X)\n",
    "    \n",
    "    # Aplicar PCA para visualizar en 2D\n",
    "    from sklearn.decomposition import PCA\n",
    "    pca = PCA(n_components=2)\n",
    "    X_pca = pca.fit_transform(X)\n",
    "    \n",
    "    # Visualizar resultados\n",
    "    fig, (ax1, ax2) = plt.subplots(1, 2, figsize=(15, 6))\n",
    "    \n",
    "    # K-means\n",
    "    scatter1 = ax1.scatter(X_pca[:, 0], X_pca[:, 1], c=kmeans_labels, cmap='viridis', s=50, alpha=0.8)\n",
    "    ax1.set_title(f'Clusters K-means (k={k_kmeans})')\n",
    "    ax1.set_xlabel('Componente Principal 1')\n",
    "    ax1.set_ylabel('Componente Principal 2')\n",
    "    legend1 = ax1.legend(*scatter1.legend_elements(), title=\"Clusters\")\n",
    "    ax1.add_artist(legend1)\n",
    "    \n",
    "    # Agglomerative\n",
    "    scatter2 = ax2.scatter(X_pca[:, 0], X_pca[:, 1], c=agg_labels, cmap='viridis', s=50, alpha=0.8)\n",
    "    ax2.set_title(f'Clusters Agglomerative (k={k_agg})')\n",
    "    ax2.set_xlabel('Componente Principal 1')\n",
    "    ax2.set_ylabel('Componente Principal 2')\n",
    "    legend2 = ax2.legend(*scatter2.legend_elements(), title=\"Clusters\")\n",
    "    ax2.add_artist(legend2)\n",
    "    \n",
    "    plt.tight_layout()\n",
    "    plt.show()\n",
    "    \n",
    "    return kmeans_labels, agg_labels"
   ]
  },
  {
   "cell_type": "markdown",
   "metadata": {},
   "source": [
    "## Método del codo"
   ]
  },
  {
   "cell_type": "code",
   "execution_count": 2099,
   "metadata": {},
   "outputs": [
    {
     "name": "stdout",
     "output_type": "stream",
     "text": [
      "\n",
      "Aplicación del método del codo para K-means:\n"
     ]
    },
    {
     "data": {
      "image/png": "[encoded data removed]",
      "text/plain": [
       "<Figure size 1000x600 with 1 Axes>"
      ]
     },
     "metadata": {},
     "output_type": "display_data"
    }
   ],
   "source": [
    "#Aplicar el método del codo para K-means\n",
    "print(\"\\nAplicación del método del codo para K-means:\")\n",
    "inertias = plotElbowMethod(X_scaled, max_k=10)"
   ]
  },
  {
   "cell_type": "markdown",
   "metadata": {},
   "source": [
    "El método del codo muestra un valor optimo al rededor de los 4 clusters."
   ]
  },
  {
   "cell_type": "code",
   "execution_count": 2156,
   "metadata": {},
   "outputs": [],
   "source": [
    "kmeans_opt = 4"
   ]
  },
  {
   "cell_type": "markdown",
   "metadata": {},
   "source": [
    "## Dendograma"
   ]
  },
  {
   "cell_type": "code",
   "execution_count": 2157,
   "metadata": {},
   "outputs": [
    {
     "name": "stdout",
     "output_type": "stream",
     "text": [
      "\n",
      "Visualización del dendrograma para Agglomerative Clustering:\n"
     ]
    },
    {
     "data": {
      "image/png": "[encoded data removed]",
      "text/plain": [
       "<Figure size 1200x800 with 1 Axes>"
      ]
     },
     "metadata": {},
     "output_type": "display_data"
    }
   ],
   "source": [
    "print(\"\\nVisualización del dendrograma para Agglomerative Clustering:\")\n",
    "plotDendrogram(X_scaled)"
   ]
  },
  {
   "cell_type": "markdown",
   "metadata": {},
   "source": [
    "El metodo de aglomeración tambien muestra un numero optimo de 4 clusters"
   ]
  },
  {
   "cell_type": "code",
   "execution_count": 2158,
   "metadata": {},
   "outputs": [],
   "source": [
    "agglomerative_opt = 4"
   ]
  },
  {
   "cell_type": "markdown",
   "metadata": {},
   "source": [
    "## Análisis de Silhouette para los k óptimos"
   ]
  },
  {
   "cell_type": "code",
   "execution_count": 2159,
   "metadata": {},
   "outputs": [
    {
     "name": "stdout",
     "output_type": "stream",
     "text": [
      "\n",
      "Análisis detallado de Silhouette para los k óptimos:\n"
     ]
    },
    {
     "data": {
      "image/png": "[encoded data removed]",
      "text/plain": [
       "<Figure size 1500x600 with 2 Axes>"
      ]
     },
     "metadata": {},
     "output_type": "display_data"
    },
    {
     "name": "stdout",
     "output_type": "stream",
     "text": [
      "Coeficiente de Silhouette para K-means (k=4): 0.6684\n",
      "Coeficiente de Silhouette para Agglomerative (k=4): 0.6684\n"
     ]
    }
   ],
   "source": [
    "print(\"\\nAnálisis detallado de Silhouette para los k óptimos:\")\n",
    "sil_kmeans, sil_agg = plotSilhouetteAnalysis(X_scaled, kmeans_opt, agglomerative_opt)\n",
    "print(f\"Coeficiente de Silhouette para K-means (k={kmeans_opt}): {sil_kmeans:.4f}\")\n",
    "print(f\"Coeficiente de Silhouette para Agglomerative (k={agglomerative_opt}): {sil_agg:.4f}\")"
   ]
  },
  {
   "cell_type": "markdown",
   "metadata": {},
   "source": [
    "Se puede observar que el coeficiente se encuentra en 0.6988, lo cual indica una buena separación entre clusters"
   ]
  },
  {
   "cell_type": "markdown",
   "metadata": {},
   "source": [
    "## Clustering"
   ]
  },
  {
   "cell_type": "code",
   "execution_count": 2160,
   "metadata": {},
   "outputs": [
    {
     "name": "stdout",
     "output_type": "stream",
     "text": [
      "\n",
      "Visualición de resultados de clustering:\n"
     ]
    },
    {
     "data": {
      "image/png": "[encoded data removed]",
      "text/plain": [
       "<Figure size 1500x600 with 2 Axes>"
      ]
     },
     "metadata": {},
     "output_type": "display_data"
    }
   ],
   "source": [
    "print(\"\\nVisualición de resultados de clustering:\")\n",
    "kmeans_labels, agg_labels = plotClusteringResults(X_scaled, kmeans_opt, agglomerative_opt)"
   ]
  },
  {
   "cell_type": "code",
   "execution_count": 2161,
   "metadata": {},
   "outputs": [],
   "source": [
    "#Agregar etiquetas de cluster al dataset original\n",
    "df_results = df_clean.copy()\n",
    "df_results['kmeans_cluster'] = kmeans_labels\n",
    "df_results['agg_cluster'] = agg_labels"
   ]
  },
  {
   "cell_type": "code",
   "execution_count": 2162,
   "metadata": {},
   "outputs": [
    {
     "name": "stdout",
     "output_type": "stream",
     "text": [
      "\n",
      "Resultados guardados en 'datasets/malware_clustering_results.csv'\n"
     ]
    }
   ],
   "source": [
    "#Guardar resultados\n",
    "df_results.to_csv('datasets/malware_clustering_results.csv', index=False)\n",
    "print(\"\\nResultados guardados en 'datasets/malware_clustering_results.csv'\")"
   ]
  },
  {
   "cell_type": "code",
   "execution_count": 2163,
   "metadata": {},
   "outputs": [
    {
     "name": "stdout",
     "output_type": "stream",
     "text": [
      "\n",
      "Análisis de características por cluster\n",
      "Análisis de clusters K-means:\n",
      "                count  number_of_sections  imported_dlls_count  \\\n",
      "kmeans_cluster                                                   \n",
      "0                  20            0.398015            -0.790052   \n",
      "1                   7           -1.542308             0.727456   \n",
      "2                   8            0.155475             1.552189   \n",
      "3                   4            0.398015            -0.427169   \n",
      "\n",
      "                imported_functions_count  avg_entropy  max_entropy  is_dll  \\\n",
      "kmeans_cluster                                                               \n",
      "0                              -0.620727    -0.921386    -0.781518       0   \n",
      "1                              -0.262176     0.736183     0.302420       0   \n",
      "2                               1.942983     1.477170     1.745285       5   \n",
      "3                              -0.323525     0.364268    -0.112215       0   \n",
      "\n",
      "                is_exe  suspicious_dll_count  \n",
      "kmeans_cluster                                \n",
      "0                   20             -0.647918  \n",
      "1                    7              1.804330  \n",
      "2                    3             -0.328060  \n",
      "3                    4              0.738135  \n"
     ]
    }
   ],
   "source": [
    "#Análisis de características por cluster\n",
    "print(\"\\nAnálisis de características por cluster\")\n",
    "\n",
    "# Para K-means\n",
    "print(\"Análisis de clusters K-means:\")\n",
    "kmeans_cluster_analysis = df_results.groupby('kmeans_cluster').agg({\n",
    "    'file_size': 'mean',\n",
    "    'number_of_sections': 'mean',\n",
    "    'imported_dlls_count': 'mean',\n",
    "    'imported_functions_count': 'mean',\n",
    "    'avg_entropy': 'mean',\n",
    "    'max_entropy': 'mean',\n",
    "    'is_dll': 'sum',\n",
    "    'is_exe': 'sum',\n",
    "    'suspicious_dll_count': 'mean',\n",
    "    'file_size': 'count'  # Conteo de archivos por cluster\n",
    "}).rename(columns={'file_size': 'count'})\n",
    "\n",
    "print(kmeans_cluster_analysis)"
   ]
  },
  {
   "cell_type": "code",
   "execution_count": 2164,
   "metadata": {},
   "outputs": [
    {
     "name": "stdout",
     "output_type": "stream",
     "text": [
      "\n",
      "Análisis de clusters Agglomerative:\n",
      "             count  number_of_sections  imported_dlls_count  \\\n",
      "agg_cluster                                                   \n",
      "0                8            0.155475             1.552189   \n",
      "1                4            0.398015            -0.427169   \n",
      "2               20            0.398015            -0.790052   \n",
      "3                7           -1.542308             0.727456   \n",
      "\n",
      "             imported_functions_count  avg_entropy  max_entropy  is_dll  \\\n",
      "agg_cluster                                                               \n",
      "0                            1.942983     1.477170     1.745285       5   \n",
      "1                           -0.323525     0.364268    -0.112215       0   \n",
      "2                           -0.620727    -0.921386    -0.781518       0   \n",
      "3                           -0.262176     0.736183     0.302420       0   \n",
      "\n",
      "             is_exe  suspicious_dll_count  \n",
      "agg_cluster                                \n",
      "0                 3             -0.328060  \n",
      "1                 4              0.738135  \n",
      "2                20             -0.647918  \n",
      "3                 7              1.804330  \n"
     ]
    }
   ],
   "source": [
    "#Para Agglomerative\n",
    "print(\"\\nAnálisis de clusters Agglomerative:\")\n",
    "agg_cluster_analysis = df_results.groupby('agg_cluster').agg({\n",
    "    'file_size': 'mean',\n",
    "    'number_of_sections': 'mean',\n",
    "    'imported_dlls_count': 'mean',\n",
    "    'imported_functions_count': 'mean',\n",
    "    'avg_entropy': 'mean',\n",
    "    'max_entropy': 'mean',\n",
    "    'is_dll': 'sum',\n",
    "    'is_exe': 'sum',\n",
    "    'suspicious_dll_count': 'mean',\n",
    "    'file_size': 'count'  # Conteo de archivos por cluster\n",
    "}).rename(columns={'file_size': 'count'})\n",
    "\n",
    "print(agg_cluster_analysis)"
   ]
  },
  {
   "cell_type": "markdown",
   "metadata": {},
   "source": [
    "## Comparación de los algoritmos"
   ]
  },
  {
   "cell_type": "code",
   "execution_count": 2165,
   "metadata": {},
   "outputs": [
    {
     "name": "stdout",
     "output_type": "stream",
     "text": [
      "\n",
      "Comparación entre clasificaciones de K-means y Agglomerative:\n",
      "Agglomerative  0  1   2  3\n",
      "K-means                   \n",
      "0              0  0  20  0\n",
      "1              0  0   0  7\n",
      "2              8  0   0  0\n",
      "3              0  4   0  0\n"
     ]
    }
   ],
   "source": [
    "#Matriz de confusión entre los dos algoritmos\n",
    "print(\"\\nComparación entre clasificaciones de K-means y Agglomerative:\")\n",
    "confusion_matrix = pd.crosstab(df_results['kmeans_cluster'], df_results['agg_cluster'], \n",
    "                                rownames=['K-means'], colnames=['Agglomerative'])\n",
    "print(confusion_matrix)"
   ]
  },
  {
   "cell_type": "code",
   "execution_count": 2166,
   "metadata": {},
   "outputs": [
    {
     "data": {
      "image/png": "[encoded data removed]",
      "text/plain": [
       "<Figure size 1000x800 with 2 Axes>"
      ]
     },
     "metadata": {},
     "output_type": "display_data"
    }
   ],
   "source": [
    "#Heatmap de la matriz de confusión\n",
    "plt.figure(figsize=(10, 8))\n",
    "sns.heatmap(confusion_matrix, annot=True, cmap='Blues', fmt='d')\n",
    "plt.title('Matriz de Comparación: K-means vs Agglomerative')\n",
    "plt.tight_layout()\n",
    "plt.show()"
   ]
  },
  {
   "cell_type": "code",
   "execution_count": 2167,
   "metadata": {},
   "outputs": [
    {
     "name": "stdout",
     "output_type": "stream",
     "text": [
      "\n",
      "Análisis de diferencia en asignación de clusters:\n",
      "Porcentaje de acuerdo entre K-means y Agglomerative: 0.00%\n"
     ]
    }
   ],
   "source": [
    "#Análisis de la diferencia en asignación de clusters\n",
    "print(\"\\nAnálisis de diferencia en asignación de clusters:\")\n",
    "df_results['same_cluster'] = df_results['kmeans_cluster'] == df_results['agg_cluster']\n",
    "agreement_percentage = df_results['same_cluster'].mean() * 100\n",
    "print(f\"Porcentaje de acuerdo entre K-means y Agglomerative: {agreement_percentage:.2f}%\")"
   ]
  },
  {
   "cell_type": "code",
   "execution_count": 2168,
   "metadata": {},
   "outputs": [
    {
     "name": "stdout",
     "output_type": "stream",
     "text": [
      "\n",
      "Características promedio de muestras con diferente asignación (39 muestras):\n",
      "file_size                  -4.127752e-17\n",
      "number_of_sections          3.287968e-16\n",
      "imported_dlls_count        -2.103019e-16\n",
      "imported_functions_count    1.281027e-16\n",
      "days_since_compile         -6.946011e-16\n",
      "avg_entropy                -5.821554e-16\n",
      "max_entropy                 6.369549e-16\n",
      "suspicious_dll_count        1.907306e-16\n",
      "dtype: float64\n",
      "\n",
      "Características promedio de muestras con la misma asignación:\n",
      "file_size                  NaN\n",
      "number_of_sections         NaN\n",
      "imported_dlls_count        NaN\n",
      "imported_functions_count   NaN\n",
      "days_since_compile         NaN\n",
      "avg_entropy                NaN\n",
      "max_entropy                NaN\n",
      "suspicious_dll_count       NaN\n",
      "dtype: float64\n"
     ]
    }
   ],
   "source": [
    "#Características de muestras que difieren en la asignación de clusters\n",
    "different_samples = df_results[~df_results['same_cluster']]\n",
    "if len(different_samples) > 0:\n",
    "    print(f\"\\nCaracterísticas promedio de muestras con diferente asignación ({len(different_samples)} muestras):\")\n",
    "    print(different_samples[numerical_features].mean())\n",
    "    \n",
    "    print(\"\\nCaracterísticas promedio de muestras con la misma asignación:\")\n",
    "    print(df_results[df_results['same_cluster']][numerical_features].mean())\n",
    "else:\n",
    "    print(\"No hay muestras con diferente asignación.\")\n"
   ]
  },
  {
   "cell_type": "markdown",
   "metadata": {},
   "source": [
    "## Creación de modelo"
   ]
  },
  {
   "cell_type": "code",
   "execution_count": 2169,
   "metadata": {},
   "outputs": [],
   "source": [
    "from dotenv import load_dotenv\n",
    "import google.generativeai as genai"
   ]
  },
  {
   "cell_type": "code",
   "execution_count": 2170,
   "metadata": {},
   "outputs": [],
   "source": [
    "load_dotenv()\n",
    "GOOGLE_API_KEY = os.getenv('GOOGLE_API_KEY')\n",
    "genai.configure(api_key=GOOGLE_API_KEY)\n",
    "embeddings_path = 'datasets/embeddings.csv'"
   ]
  },
  {
   "cell_type": "code",
   "execution_count": 2171,
   "metadata": {},
   "outputs": [],
   "source": [
    "def prepare_text_features(df):\n",
    "    return df.apply(lambda row: f\"\"\"\n",
    "    Archivo con tamaño {row['file_size']} bytes, \n",
    "    con {row['number_of_sections']} secciones, \n",
    "    {row['imported_dlls_count']} DLLs importadas,\n",
    "    {row['imported_functions_count']} funciones importadas,\n",
    "    {row['days_since_compile']} días desde compilación,\n",
    "    entropía promedio de {row['avg_entropy']:.2f},\n",
    "    entropía máxima de {row['max_entropy']:.2f},\n",
    "    {'es DLL' if row['is_dll'] else 'no es DLL'},\n",
    "    {'es EXE' if row['is_exe'] else 'no es EXE'},\n",
    "    con {row['suspicious_dll_count']} DLLs sospechosas\n",
    "    \"\"\", axis=1)"
   ]
  },
  {
   "cell_type": "code",
   "execution_count": 2172,
   "metadata": {},
   "outputs": [],
   "source": [
    "def get_embeddings(texts):\n",
    "    print(\"Getting embeddings...\")\n",
    "    if os.path.exists(embeddings_path):\n",
    "        print(\"Embeddings already exist, loading from file...\")\n",
    "        existing_embeddings = pd.read_csv(embeddings_path)\n",
    "        #return a numpy array\n",
    "        return np.array(existing_embeddings)\n",
    "\n",
    "    print(\"No embeddings found, generating new ones...\")\n",
    "    model = 'models/embedding-001'\n",
    "    embeddings = []\n",
    "    \n",
    "    for text in texts:\n",
    "        result = genai.embed_content(model=model,\n",
    "                                    content=text,\n",
    "                                    task_type=\"clustering\")\n",
    "        embeddings.append(result['embedding'])\n",
    "    \n",
    "    #save embeddings to csv\n",
    "    pd.DataFrame(embeddings).to_csv(embeddings_path, index=False)\n",
    "    return np.array(embeddings)"
   ]
  },
  {
   "cell_type": "code",
   "execution_count": 2173,
   "metadata": {},
   "outputs": [
    {
     "name": "stdout",
     "output_type": "stream",
     "text": [
      "Getting embeddings...\n",
      "Embeddings already exist, loading from file...\n"
     ]
    },
    {
     "data": {
      "image/png": "[encoded data removed]",
      "text/plain": [
       "<Figure size 1200x800 with 4 Axes>"
      ]
     },
     "metadata": {},
     "output_type": "display_data"
    }
   ],
   "source": [
    "df = pd.read_csv('datasets/malware_clustering_results.csv')\n",
    "    \n",
    "#preparar textos para embeddings\n",
    "texts = prepare_text_features(df)\n",
    "\n",
    "#obtener embeddings\n",
    "embeddings = get_embeddings(texts)\n",
    "\n",
    "#reducción de dimensionalidad con PCA\n",
    "pca = PCA(n_components=2)\n",
    "embeddings_2d = pca.fit_transform(embeddings)\n",
    "    \n",
    "plt.figure(figsize=(12, 8))\n",
    "\n",
    "#graficar clusters de K-means\n",
    "plt.subplot(1, 2, 1)\n",
    "scatter = plt.scatter(embeddings_2d[:, 0], embeddings_2d[:, 1], \n",
    "                        c=df['kmeans_cluster'], cmap='viridis')\n",
    "plt.title('Clustering K-means')\n",
    "plt.colorbar(scatter)\n",
    "\n",
    "#graficar clusters jerárquicos\n",
    "plt.subplot(1, 2, 2)\n",
    "scatter = plt.scatter(embeddings_2d[:, 0], embeddings_2d[:, 1], \n",
    "                        c=df['agg_cluster'], cmap='viridis')\n",
    "plt.title('Clustering Jerárquico')\n",
    "plt.colorbar(scatter)\n",
    "\n",
    "plt.tight_layout()\n",
    "plt.show()"
   ]
  },
  {
   "cell_type": "markdown",
   "metadata": {},
   "source": [
    "## Análisis de similitud"
   ]
  },
  {
   "cell_type": "code",
   "execution_count": 2174,
   "metadata": {},
   "outputs": [],
   "source": [
    "from tqdm import tqdm\n",
    "import networkx as nx"
   ]
  },
  {
   "cell_type": "code",
   "execution_count": 2175,
   "metadata": {},
   "outputs": [
    {
     "data": {
      "text/plain": [
       "0"
      ]
     },
     "execution_count": 2175,
     "metadata": {},
     "output_type": "execute_result"
    }
   ],
   "source": [
    "#borrar el contenido del output\n",
    "output_folder = 'jaccard_analysis'\n",
    "os.system(f'rm -rf {output_folder}/*')"
   ]
  },
  {
   "cell_type": "code",
   "execution_count": 2176,
   "metadata": {},
   "outputs": [],
   "source": [
    "df_similarity = pd.read_csv('datasets/malware_clustering_results.csv').drop(columns=['agg_cluster'])"
   ]
  },
  {
   "cell_type": "code",
   "execution_count": 2177,
   "metadata": {},
   "outputs": [],
   "source": [
    "def jaccard_similarity(sample1, sample2):\n",
    "    #seleccionar columnas de DLLs\n",
    "    dll_columns = [col for col in sample1.index if col.startswith('dll_')]\n",
    "    \n",
    "    #convertir a sets\n",
    "    set1 = {dll for dll in dll_columns if sample1[dll] == 1}\n",
    "    set2 = {dll for dll in dll_columns if sample2[dll] == 1}\n",
    "    \n",
    "    #intersección y unión\n",
    "    intersection = len(set1.intersection(set2))\n",
    "    union = len(set1.union(set2))\n",
    "    \n",
    "    #evitar división por cero\n",
    "    if union == 0:\n",
    "        return 0\n",
    "    \n",
    "    return intersection / union"
   ]
  },
  {
   "cell_type": "code",
   "execution_count": 2178,
   "metadata": {},
   "outputs": [],
   "source": [
    "def generate_jaccard_matrix(df):\n",
    "    n_samples = df.shape[0]\n",
    "    jaccard_matrix = np.zeros((n_samples, n_samples))\n",
    "    \n",
    "    for i in tqdm(range(n_samples), desc=\"Calculando matriz de similitud\"):\n",
    "        for j in range(i, n_samples):\n",
    "            if i == j:\n",
    "                jaccard_matrix[i, j] = 1.0\n",
    "            else:\n",
    "                sim = jaccard_similarity(df.iloc[i], df.iloc[j])\n",
    "                jaccard_matrix[i, j] = sim\n",
    "                jaccard_matrix[j, i] = sim  # Matriz simétrica\n",
    "    \n",
    "    return jaccard_matrix"
   ]
  },
  {
   "cell_type": "code",
   "execution_count": 2179,
   "metadata": {},
   "outputs": [],
   "source": [
    "def generate_similarity_graph(jaccard_matrix, threshold, node_labels=None):\n",
    "    G = nx.Graph()\n",
    "    \n",
    "    #agregar nodos\n",
    "    n_nodes = jaccard_matrix.shape[0]\n",
    "    for i in range(n_nodes):\n",
    "        G.add_node(i, label=node_labels[i] if node_labels else i)\n",
    "    \n",
    "    #agregar aristas\n",
    "    for i in range(n_nodes):\n",
    "        for j in range(i+1, n_nodes):\n",
    "            if jaccard_matrix[i, j] >= threshold:\n",
    "                G.add_edge(i, j, weight=jaccard_matrix[i, j])\n",
    "    \n",
    "    return G"
   ]
  },
  {
   "cell_type": "code",
   "execution_count": 2180,
   "metadata": {},
   "outputs": [],
   "source": [
    "def plot_similarity_graph(G, cluster_labels, threshold, title=None, figsize=(12, 10)):\n",
    "    plt.figure(figsize=figsize)\n",
    "    \n",
    "    #posicionar los nodos\n",
    "    pos = nx.spring_layout(G, seed=42)\n",
    "    \n",
    "    #definir colores por cluster\n",
    "    unique_clusters = sorted(set(cluster_labels))\n",
    "    colors = plt.cm.tab10(np.linspace(0, 1, len(unique_clusters)))\n",
    "    color_map = {cluster: colors[i] for i, cluster in enumerate(unique_clusters)}\n",
    "    \n",
    "    #dibujar nodos con colores según su cluster\n",
    "    for cluster in unique_clusters:\n",
    "        node_list = [node for node, label in enumerate(cluster_labels) if label == cluster]\n",
    "        nx.draw_networkx_nodes(G, pos, \n",
    "                              nodelist=node_list,\n",
    "                              node_color=[color_map[cluster]],\n",
    "                              node_size=100,\n",
    "                              alpha=0.8,\n",
    "                              label=f\"Cluster {cluster}\")\n",
    "    \n",
    "    #dibujar aristas\n",
    "    nx.draw_networkx_edges(G, pos, alpha=0.3)\n",
    "\n",
    "    plt.legend()\n",
    "    plt.title(title or f\"Grafo de Similitud (umbral = {threshold})\")\n",
    "    plt.axis(\"off\")\n",
    "    plt.tight_layout()\n",
    "    \n",
    "    return plt"
   ]
  },
  {
   "cell_type": "code",
   "execution_count": 2181,
   "metadata": {},
   "outputs": [],
   "source": [
    "def analyze_graph(G, cluster_labels):\n",
    "    analysis = {}\n",
    "    \n",
    "    #número de nodos y aristas\n",
    "    analysis['num_nodes'] = G.number_of_nodes()\n",
    "    analysis['num_edges'] = G.number_of_edges()\n",
    "    \n",
    "    #densidad del grafo\n",
    "    analysis['density'] = nx.density(G)\n",
    "    \n",
    "    #componentes conectados\n",
    "    connected_components = list(nx.connected_components(G))\n",
    "    analysis['num_connected_components'] = len(connected_components)\n",
    "    \n",
    "    #tamaño del componente más grande\n",
    "    largest_cc = max(connected_components, key=len)\n",
    "    analysis['largest_component_size'] = len(largest_cc)\n",
    "    analysis['largest_component_percentage'] = len(largest_cc) / G.number_of_nodes()\n",
    "    \n",
    "    #cohesión dentro de los clusters\n",
    "    cluster_cohesion = {}\n",
    "    for cluster in set(cluster_labels):\n",
    "        #nodos de este cluster\n",
    "        cluster_nodes = [i for i, label in enumerate(cluster_labels) if label == cluster]\n",
    "        \n",
    "        if len(cluster_nodes) <= 1:\n",
    "            cluster_cohesion[cluster] = 0\n",
    "            continue\n",
    "            \n",
    "        #subgrafo inducido por este cluster\n",
    "        cluster_subgraph = G.subgraph(cluster_nodes)\n",
    "        \n",
    "        #densidad del subgrafo (medida de cohesión)\n",
    "        cluster_cohesion[cluster] = nx.density(cluster_subgraph)\n",
    "    \n",
    "    analysis['cluster_cohesion'] = cluster_cohesion\n",
    "    \n",
    "    return analysis"
   ]
  },
  {
   "cell_type": "code",
   "execution_count": 2182,
   "metadata": {},
   "outputs": [],
   "source": [
    "def malware_similarity_analysis(df, thresholds=[0.3, 0.5, 0.7], output_dir=\"jaccard_analysis\"):\n",
    "    os.makedirs(output_dir, exist_ok=True)\n",
    "    \n",
    "    #extraer etiquetas de cluster\n",
    "    cluster_labels = df['kmeans_cluster'].values\n",
    "    \n",
    "    #calcular matriz de similitud Jaccard\n",
    "    print(\"Calculando matriz de similitud Jaccard...\")\n",
    "    jaccard_matrix = generate_jaccard_matrix(df)\n",
    "    \n",
    "    #guardar heatmap de la matriz de similitud\n",
    "    plt.figure(figsize=(12, 10))\n",
    "    sns.heatmap(jaccard_matrix, cmap=\"YlGnBu\")\n",
    "    plt.title(\"Matriz de Similitud Jaccard entre muestras de malware\")\n",
    "    plt.tight_layout()\n",
    "    plt.savefig(f\"{output_dir}/jaccard_matrix_heatmap.png\")\n",
    "    plt.close()\n",
    "    \n",
    "    #análisis para cada umbral\n",
    "    for threshold in thresholds:\n",
    "        print(f\"\\nAnalizando con umbral de similitud: {threshold}\")\n",
    "        \n",
    "        #generar grafo global\n",
    "        print(\"Generando grafo global...\")\n",
    "        global_graph = generate_similarity_graph(jaccard_matrix, threshold)\n",
    "        plot_similarity_graph(global_graph, cluster_labels, threshold, \n",
    "                             title=f\"Grafo Global de Similitud (umbral = {threshold})\")\n",
    "        plt.savefig(f\"{output_dir}/global_graph_threshold_{threshold:.1f}.png\")\n",
    "        plt.close()\n",
    "        \n",
    "        #análisis del grafo global\n",
    "        global_metrics = analyze_graph(global_graph, cluster_labels)\n",
    "        print(f\"Métricas del grafo global (umbral = {threshold}):\")\n",
    "        print(f\"  - Nodos: {global_metrics['num_nodes']}\")\n",
    "        print(f\"  - Aristas: {global_metrics['num_edges']}\")\n",
    "        print(f\"  - Densidad: {global_metrics['density']:.4f}\")\n",
    "        print(f\"  - Componentes conectados: {global_metrics['num_connected_components']}\")\n",
    "        print(f\"  - Tamaño del componente más grande: {global_metrics['largest_component_size']} \"\n",
    "              f\"({global_metrics['largest_component_percentage']:.2%} del total)\")\n",
    "        \n",
    "    print(\"Generando grafos por familia...\")\n",
    "    for cluster in sorted(set(cluster_labels)):\n",
    "        #extraer indices de las muestras del cluster\n",
    "        cluster_indices = [i for i, label in enumerate(cluster_labels) if label == cluster]\n",
    "        \n",
    "        if len(cluster_indices) <= 1:\n",
    "            print(f\"  Cluster {cluster} tiene solo {len(cluster_indices)} muestra(s), no se genera grafo\")\n",
    "            continue\n",
    "            \n",
    "        #extraer submatriz de similitud para el cluster\n",
    "        cluster_matrix = jaccard_matrix[np.ix_(cluster_indices, cluster_indices)]\n",
    "        \n",
    "        #generar grafo para el cluster\n",
    "        cluster_graph = generate_similarity_graph(cluster_matrix, threshold)\n",
    "        cluster_labels_subset = [cluster] * len(cluster_indices)\n",
    "        \n",
    "        #plot\n",
    "        plot_similarity_graph(cluster_graph, cluster_labels_subset, threshold,\n",
    "                                title=f\"Similitud en Familia {cluster} (umbral = {threshold})\")\n",
    "        plt.savefig(f\"{output_dir}/family_{cluster}_graph_threshold_{threshold:.1f}.png\")\n",
    "        plt.close()\n",
    "        \n",
    "        #análisis de la familia\n",
    "        cluster_metrics = analyze_graph(cluster_graph, cluster_labels_subset)\n",
    "        print(f\"  Métricas de la familia {cluster} (umbral = {threshold}):\")\n",
    "        print(f\"    - Muestras: {len(cluster_indices)}\")\n",
    "        print(f\"    - Aristas: {cluster_metrics['num_edges']}\")\n",
    "        print(f\"    - Densidad: {cluster_metrics['density']:.4f}\")\n",
    "        print(f\"    - Cohesión interna: {cluster_metrics['cluster_cohesion'][cluster]:.4f}\")\n",
    "    \n",
    "    print(\"\\nAnálisis completado. Resultados guardados en\", output_dir)\n",
    "    \n",
    "    return jaccard_matrix"
   ]
  },
  {
   "cell_type": "code",
   "execution_count": 2183,
   "metadata": {},
   "outputs": [
    {
     "name": "stdout",
     "output_type": "stream",
     "text": [
      "Calculando matriz de similitud Jaccard...\n"
     ]
    },
    {
     "name": "stderr",
     "output_type": "stream",
     "text": [
      "Calculando matriz de similitud: 100%|██████████| 39/39 [00:00<00:00, 955.53it/s]\n"
     ]
    },
    {
     "name": "stdout",
     "output_type": "stream",
     "text": [
      "\n",
      "Analizando con umbral de similitud: 0.4\n",
      "Generando grafo global...\n",
      "Métricas del grafo global (umbral = 0.4):\n",
      "  - Nodos: 39\n",
      "  - Aristas: 717\n",
      "  - Densidad: 0.9676\n",
      "  - Componentes conectados: 1\n",
      "  - Tamaño del componente más grande: 39 (100.00% del total)\n",
      "\n",
      "Analizando con umbral de similitud: 0.65\n",
      "Generando grafo global...\n",
      "Métricas del grafo global (umbral = 0.65):\n",
      "  - Nodos: 39\n",
      "  - Aristas: 416\n",
      "  - Densidad: 0.5614\n",
      "  - Componentes conectados: 2\n",
      "  - Tamaño del componente más grande: 31 (79.49% del total)\n",
      "\n",
      "Analizando con umbral de similitud: 0.8\n",
      "Generando grafo global...\n",
      "Métricas del grafo global (umbral = 0.8):\n",
      "  - Nodos: 39\n",
      "  - Aristas: 240\n",
      "  - Densidad: 0.3239\n",
      "  - Componentes conectados: 4\n",
      "  - Tamaño del componente más grande: 20 (51.28% del total)\n",
      "Generando grafos por familia...\n",
      "  Métricas de la familia 0 (umbral = 0.8):\n",
      "    - Muestras: 20\n",
      "    - Aristas: 190\n",
      "    - Densidad: 1.0000\n",
      "    - Cohesión interna: 1.0000\n",
      "  Métricas de la familia 1 (umbral = 0.8):\n",
      "    - Muestras: 7\n",
      "    - Aristas: 21\n",
      "    - Densidad: 1.0000\n",
      "    - Cohesión interna: 1.0000\n",
      "  Métricas de la familia 2 (umbral = 0.8):\n",
      "    - Muestras: 8\n",
      "    - Aristas: 19\n",
      "    - Densidad: 0.6786\n",
      "    - Cohesión interna: 0.6786\n",
      "  Métricas de la familia 3 (umbral = 0.8):\n",
      "    - Muestras: 4\n",
      "    - Aristas: 3\n",
      "    - Densidad: 0.5000\n",
      "    - Cohesión interna: 0.5000\n",
      "\n",
      "Análisis completado. Resultados guardados en jaccard_analysis\n"
     ]
    },
    {
     "data": {
      "text/plain": [
       "array([[1.        , 0.71428571, 1.        , ..., 0.8       , 0.71428571,\n",
       "        0.57142857],\n",
       "       [0.71428571, 1.        , 0.71428571, ..., 0.57142857, 1.        ,\n",
       "        0.85714286],\n",
       "       [1.        , 0.71428571, 1.        , ..., 0.8       , 0.71428571,\n",
       "        0.57142857],\n",
       "       ...,\n",
       "       [0.8       , 0.57142857, 0.8       , ..., 1.        , 0.57142857,\n",
       "        0.66666667],\n",
       "       [0.71428571, 1.        , 0.71428571, ..., 0.57142857, 1.        ,\n",
       "        0.85714286],\n",
       "       [0.57142857, 0.85714286, 0.57142857, ..., 0.66666667, 0.85714286,\n",
       "        1.        ]])"
      ]
     },
     "execution_count": 2183,
     "metadata": {},
     "output_type": "execute_result"
    }
   ],
   "source": [
    "malware_similarity_analysis(df_similarity, thresholds=[0.4, 0.65, 0.8])"
   ]
  },
  {
   "cell_type": "markdown",
   "metadata": {},
   "source": [
    "# Conclusiones"
   ]
  },
  {
   "cell_type": "markdown",
   "metadata": {},
   "source": [
    "### Para ambos algoritmos, ¿para qué número de clústeres se obtiene el coeficiente de Silhouette más alto?\n",
    "\n",
    "* Para K-means el coeficiente de Silhouette más alto se obtuvo con 4 clusters, con un valor de 0.6684.\n",
    "* Para Clustering Aglomerativo también se obtuvo el coeficiente más alto con 4 clusters, con un valor idéntico de 0.6684.\n",
    "\n",
    "Este valor relativamente alto (cercano a 0.7) indica una buena separación entre los clusters y cohesión dentro de ellos, lo que sugiere que la división en 4 familias de malware es apropiada."
   ]
  },
  {
   "cell_type": "markdown",
   "metadata": {},
   "source": [
    "### Para ambos algoritmos, ¿En qué medida coincide el coeficiente de Silhouette con el método del codo?\n",
    "\n",
    "* **Método del codo**: Muestra un punto de inflexión visible alrededor de k=4, donde la inercia comienza a estabilizarse. Esto sugiere que agregar más clusters más allá de este punto proporciona rendimientos decrecientes\n",
    "* **Coeficiente de Silhouette**: Alcanza su valor máximo en k=4 (0.6684), reforzando la conclusión del método del codo.\n",
    "* **Dendrograma jerárquico**: También apoya la división en 4 clusters, mostrando 4 ramas principales."
   ]
  },
  {
   "cell_type": "markdown",
   "metadata": {},
   "source": [
    "### Según los resultados obtenidos de ambos algoritmos ¿Cuántas familias cree que existen entre los ejemplares de malware proporcionados?\n",
    "\n",
    "Basado en el análisis, existen **4 familias** distintas de malware en el conjunto de datos:\n",
    "* Familia 0 (Cluster 0): La más numerosa (20 muestras), con alta cohesión interna (1.0 con umbral 0.8)\n",
    "* Familia 1 (Cluster 1): 7 muestras, también con alta cohesión interna (1.0)\n",
    "* Familia 2 (Cluster 2): 8 muestras, con cohesión moderada-alta (0.6786)\n",
    "* Familia 3 (Cluster 3): La más pequeña (4 muestras), con cohesión media (0.5)"
   ]
  },
  {
   "cell_type": "markdown",
   "metadata": {},
   "source": [
    "### ¿En qué medida coincide el análisis de similitud con las familias encontradas utilizando los algoritmos de partición, para ambas características (strings, llamadas a las funciones)?\n",
    "\n",
    "El análisis de similitud Jaccard muestra una alta concordancia con los resultados de clustering:\n",
    "\n",
    "* Con umbral de 0.8: Se forman exactamente 4 componentes conectados en el grafo global, correspondiendo a las 4 familias identificadas por K-means y Clustering Aglomerativo. Esto es una fuerte validación externa de los resultados.\n",
    "* Para los grafos de cada familia:\n",
    "    * Las familias 0 y 1 muestran una densidad interna de 1.0 (conectividad completa)\n",
    "    * La familia 2 muestra una densidad de 0.6786 (buena cohesión)\n",
    "    * La familia 3 muestra una densidad de 0.5 (cohesión moderada)"
   ]
  },
  {
   "cell_type": "markdown",
   "metadata": {},
   "source": [
    "### Conclusión final\n",
    "\n",
    "Los cuatro enfoques (K-means, Clustering Aglomerativo, análisis de similitud Jaccard y visualización de embeddings) convergen en la identificación de 4 familias de malware distintas, lo que proporciona una fuerte evidencia de que esta es la agrupación natural del conjunto de datos."
   ]
  }
 ],
 "metadata": {
  "kernelspec": {
   "display_name": ".venv",
   "language": "python",
   "name": "python3"
  },
  "language_info": {
   "codemirror_mode": {
    "name": "ipython",
    "version": 3
   },
   "file_extension": ".py",
   "mimetype": "text/x-python",
   "name": "python",
   "nbconvert_exporter": "python",
   "pygments_lexer": "ipython3",
   "version": "3.9.8"
  }
 },
 "nbformat": 4,
 "nbformat_minor": 2
}
